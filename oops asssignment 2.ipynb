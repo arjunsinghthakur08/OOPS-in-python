{
 "cells": [
  {
   "cell_type": "markdown",
   "id": "3f27783d-c313-41ef-88a1-4ebc360f9fbc",
   "metadata": {},
   "source": [
    "Q1. What is Abstraction in OOps? Explain with an example."
   ]
  },
  {
   "cell_type": "markdown",
   "id": "6680bf0a-1cb3-419d-9a2e-7d2f6fa0044b",
   "metadata": {},
   "source": [
    "ANS: Abstraction is a fundamental concept in object-oriented programming (OOP) that involves simplifying complex real-world entities into their essential characteristics, focusing on what an object does rather than how it does it. It allows programmers to represent real-world objects in their code by hiding the unnecessary details and exposing only the essential features and behaviors.\n",
    "\n",
    "Abstraction provides a higher level of abstraction by creating abstract classes or interfaces that define the common attributes and behaviors of a group of related objects. It allows you to define a blueprint or contract for the objects without specifying the implementation details. The implementation details are left to the classes that inherit from the abstract class or implement the interface."
   ]
  },
  {
   "cell_type": "code",
   "execution_count": 4,
   "id": "4165cc90-e3ea-4be7-a978-c7f7d0f059e2",
   "metadata": {},
   "outputs": [],
   "source": [
    "import abc\n",
    "class pwskills:\n",
    "\n",
    "    @abc.abstractmethod\n",
    "    def students_detials(self):\n",
    "        pass\n",
    "\n",
    "    @abc.abstractmethod\n",
    "    def student_assignemnt(self):\n",
    "        pass\n",
    "\n",
    "    @abc.abstractmethod\n",
    "    def student_marks(self):\n",
    "        pass\n",
    "class student_detils(pwskills):\n",
    "\n",
    "    def students_detials(self):\n",
    "        return \"this is a meth for taking students details\"\n",
    "\n",
    "    def student_assignemnt(self):\n",
    "        return \"this is a meth for assing details for a perticular students\"\n",
    "class data_science_maters(pwskills):\n",
    "\n",
    "    def students_detials(self):\n",
    "        return \"this will return a student details for data science masters\"\n",
    "\n",
    "    def student_assignemnt(self):\n",
    "        return \"this will give you a studnt assignment detaild for data science masters\""
   ]
  },
  {
   "cell_type": "code",
   "execution_count": 5,
   "id": "1a141ab0-9d6f-43d6-a986-2c46f8235f5b",
   "metadata": {},
   "outputs": [
    {
     "data": {
      "text/plain": [
       "'this will return a student details for data science masters'"
      ]
     },
     "execution_count": 5,
     "metadata": {},
     "output_type": "execute_result"
    }
   ],
   "source": [
    "dsm = data_science_maters()\n",
    "dsm.students_detials()\n"
   ]
  },
  {
   "cell_type": "code",
   "execution_count": 6,
   "id": "f665f04d-ee8b-41fc-896e-4e241e880ff6",
   "metadata": {},
   "outputs": [
    {
     "data": {
      "text/plain": [
       "'this is a meth for taking students details'"
      ]
     },
     "execution_count": 6,
     "metadata": {},
     "output_type": "execute_result"
    }
   ],
   "source": [
    "sd= student_detils()\n",
    "sd.students_detials()"
   ]
  },
  {
   "cell_type": "markdown",
   "id": "a3354fdc-f448-4d60-afec-73e5b0b6fa93",
   "metadata": {},
   "source": [
    "Q2. Differentiate between Abstraction and Encapsulation. Explain with an example."
   ]
  },
  {
   "cell_type": "markdown",
   "id": "ba0c3c2f-cbfc-414b-a77b-97a20e4f41a3",
   "metadata": {},
   "source": [
    "ANS: Abstraction and encapsulation are two important concepts in object-oriented programming (OOP), but they serve different purposes.\n",
    "\n",
    "1. Abstraction:\n",
    "   Abstraction is the process of simplifying complex entities by focusing on their essential features and behaviors while hiding the irrelevant details. It provides a high-level view or a conceptual representation of an object. Abstraction is achieved through abstract classes or interfaces, which define the common attributes and methods that a group of related objects should have without specifying the implementation details.\n",
    "\n",
    "   Example:\n",
    "   Consider the concept of a \"Vehicle.\" We can create an abstract class called `Vehicle` that defines common attributes and behaviors for any type of vehicle, such as `start()`, `stop()`, and `move()`. The `Vehicle` class can be extended by specific vehicle types like `Car` and `Motorcycle`, which provide their own implementations for the abstract methods. The `Vehicle` class represents the abstraction of a vehicle, while the concrete classes represent the implementation details specific to each type of vehicle.\n",
    "\n",
    "2. Encapsulation:\n",
    "   Encapsulation is the process of bundling data (attributes) and methods (behaviors) together within a class, while providing controlled access to them. It hides the internal details of an object and exposes only the necessary information through public interfaces. Encapsulation helps in achieving data abstraction, data hiding, and modularity.\n",
    "\n",
    "   Example:\n",
    "   Consider a class called `BankAccount` that represents a bank account. It may have private attributes such as `account_number` and `balance`, which should not be directly accessible from outside the class. To access or modify these attributes, the class provides public methods like `deposit()` and `withdraw()`. These methods encapsulate the logic for updating the account balance while hiding the internal details. By encapsulating the data and providing controlled access, the `BankAccount` class ensures data integrity and protects sensitive information."
   ]
  },
  {
   "cell_type": "markdown",
   "id": "902140c3-db3e-4a89-bcb3-6cba73da6156",
   "metadata": {},
   "source": [
    "Q3. What is abc module in python? Why is it used?"
   ]
  },
  {
   "cell_type": "markdown",
   "id": "1583e41c-59ba-4bfc-b067-4e74ef7e8cf5",
   "metadata": {},
   "source": [
    "ANS: The abc module in Python stands for \"Abstract Base Classes.\" It is a built-in module that provides infrastructure for defining abstract base classes. Abstract base classes (ABCs) are classes that cannot be instantiated themselves but are designed to be subclassed by other classes.\n",
    "\n",
    "\n",
    "The abc module provides the ABC class as a base class for creating abstract base classes. It also provides decorators and functions for defining abstract methods and properties. Some key components of the abc module are:\n",
    "\n",
    "ABC class: It is the base class for creating abstract base classes. Subclassing ABC indicates that the class is intended to be an abstract base class.\n",
    "\n",
    "abstractmethod decorator: It is used to declare abstract methods within an abstract base class. Abstract methods are defined without implementation and must be overridden by the subclasses.\n",
    "\n",
    "abstractproperty decorator: It is used to declare abstract properties within an abstract base class. Abstract properties are defined without getters or setters and must be implemented by the subclasses."
   ]
  },
  {
   "cell_type": "markdown",
   "id": "157edb7b-be13-4935-885c-d2833ba07cfa",
   "metadata": {},
   "source": [
    "Q4. How can we achieve data abstraction?"
   ]
  },
  {
   "cell_type": "markdown",
   "id": "5a41118b-4a4b-4890-ae05-e3bd85730fbc",
   "metadata": {},
   "source": [
    "ANS: step 1. Define an Abstract Base Class (ABC): An abstract base class serves as a blueprint or contract for the classes that will inherit from it. It defines the common attributes and behaviors that the subclasses should have. In Python, you can define an abstract base class by subclassing the ABC class from the abc module.\n",
    "\n",
    " step 2. Declare Abstract Methods: Within the abstract base class, declare abstract methods using the abstractmethod decorator. Abstract methods are defined without any implementation and serve as placeholders for the subclasses to provide their own implementation. All subclasses must override and implement these abstract methods.\n",
    "\n",
    "step3. Create Concrete Subclasses: Create concrete subclasses that inherit from the abstract base class. These subclasses provide the implementation for the abstract methods declared in the base class. They represent the specific objects or entities and provide the necessary logic and details."
   ]
  },
  {
   "cell_type": "code",
   "execution_count": 7,
   "id": "d54faa47-1d0e-43d1-b773-02dfd566b3d4",
   "metadata": {},
   "outputs": [],
   "source": [
    "#example\n",
    "\n",
    "from abc import ABC, abstractmethod\n",
    "\n",
    "class Vehicle(ABC):\n",
    "    @abstractmethod\n",
    "    def start(self):\n",
    "        pass\n",
    "\n",
    "    @abstractmethod\n",
    "    def stop(self):\n",
    "        pass\n",
    "\n",
    "class Car(Vehicle):\n",
    "    def start(self):\n",
    "        print(\"Car started.\")\n",
    "\n",
    "    def stop(self):\n",
    "        print(\"Car stopped.\")\n",
    "\n",
    "class Motorcycle(Vehicle):\n",
    "    def start(self):\n",
    "        print(\"Motorcycle started.\")\n",
    "\n",
    "    def stop(self):\n",
    "        print(\"Motorcycle stopped.\")"
   ]
  },
  {
   "cell_type": "code",
   "execution_count": 8,
   "id": "57bfd5a2-78e0-4bfd-97b4-26752fb352ac",
   "metadata": {},
   "outputs": [
    {
     "name": "stdout",
     "output_type": "stream",
     "text": [
      "Car started.\n",
      "Car stopped.\n",
      "Motorcycle started.\n",
      "Motorcycle stopped.\n"
     ]
    }
   ],
   "source": [
    "# Creating instances of Car and Motorcycle\n",
    "car = Car()\n",
    "motorcycle = Motorcycle()\n",
    "\n",
    "# Using the abstraction of Vehicle to start and stop the vehicles\n",
    "car.start()         \n",
    "car.stop()          \n",
    "motorcycle.start() \n",
    "motorcycle.stop()"
   ]
  },
  {
   "cell_type": "markdown",
   "id": "9ba07837-32bf-4e57-84c1-de057b7e00b1",
   "metadata": {},
   "source": [
    "Q5. Can we create an instance of an abstract class? Explain your answer."
   ]
  },
  {
   "cell_type": "markdown",
   "id": "8a0bd70d-8b26-43e5-b464-fd62dae59e45",
   "metadata": {},
   "source": [
    "ANS: No, we cannot create an instance of an abstract class in Python. An abstract class is a class that is meant to be subclassed but not instantiated itself. It serves as a blueprint or contract for the subclasses to follow.\n",
    "\n",
    "Attempting to create an instance of an abstract class will result in a TypeError with the message \"Can't instantiate abstract class <ClassName> with abstract methods <method1>, <method2>, ...\" if the abstract class has any unimplemented abstract methods.\n",
    "\n",
    "The purpose of an abstract class is to provide a common structure, define common methods, and enforce certain behaviors that the subclasses must implement. It is designed to be extended by concrete subclasses that provide specific implementation details."
   ]
  }
 ],
 "metadata": {
  "kernelspec": {
   "display_name": "Python 3 (ipykernel)",
   "language": "python",
   "name": "python3"
  },
  "language_info": {
   "codemirror_mode": {
    "name": "ipython",
    "version": 3
   },
   "file_extension": ".py",
   "mimetype": "text/x-python",
   "name": "python",
   "nbconvert_exporter": "python",
   "pygments_lexer": "ipython3",
   "version": "3.10.8"
  }
 },
 "nbformat": 4,
 "nbformat_minor": 5
}
