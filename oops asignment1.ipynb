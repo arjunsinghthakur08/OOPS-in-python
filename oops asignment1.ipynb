{
 "cells": [
  {
   "cell_type": "markdown",
   "id": "947a91a4-e363-4a58-8641-af4c2a8301d6",
   "metadata": {},
   "source": [
    "Q1. Explain Class and Object with respect to Object-Oriented Programming. Give a suitable example."
   ]
  },
  {
   "cell_type": "markdown",
   "id": "ae1cb3f7-4066-4e03-a7aa-c3c7b2f505d4",
   "metadata": {},
   "source": [
    "ANS: object-oriented programming (OOP), a class is a blueprint or a template for creating objects. It defines the common attributes (data) and behaviors (methods) that the objects will possess. A class acts as a blueprint for creating multiple objects of the same type, each having its own unique state and behavior.\n",
    "\n",
    "An object, on the other hand, is an instance of a class. It is a tangible entity that represents a specific occurrence of a class. Objects have their own unique identity and can have distinct values for their attributes. They can also perform actions or exhibit behaviors defined by the class."
   ]
  },
  {
   "cell_type": "code",
   "execution_count": 1,
   "id": "1c8b40bf-c668-4b1a-9382-c1e6b76ce81b",
   "metadata": {},
   "outputs": [],
   "source": [
    "class Car:\n",
    "    def __init__(self, make, model, year):\n",
    "        self.make = make\n",
    "        self.model = model\n",
    "        self.year = year"
   ]
  },
  {
   "cell_type": "code",
   "execution_count": 2,
   "id": "097dc1a7-2cc9-46a7-9fe8-34e4180d1125",
   "metadata": {},
   "outputs": [],
   "source": [
    "vehicle = Car(\"maruti\", \"vxi\", 2017 )"
   ]
  },
  {
   "cell_type": "code",
   "execution_count": 5,
   "id": "3ebb861d-04fe-48d6-a9e4-0b85ef93e537",
   "metadata": {},
   "outputs": [
    {
     "name": "stdout",
     "output_type": "stream",
     "text": [
      "maruti\n",
      "vxi\n",
      "2017\n"
     ]
    }
   ],
   "source": [
    "print(vehicle.make)\n",
    "print(vehicle.model)\n",
    "print(vehicle.year)"
   ]
  },
  {
   "cell_type": "markdown",
   "id": "34e7b915-3735-4836-97f8-700f0ecc821e",
   "metadata": {},
   "source": [
    "Q2. Name the four pillars of OOPs."
   ]
  },
  {
   "cell_type": "markdown",
   "id": "c33cb14a-f7ea-40e2-8202-9f9e4321e742",
   "metadata": {},
   "source": [
    "ANS: The four pillars of object-oriented programming (OOP) are:\n",
    "\n",
    "Encapsulation: Encapsulation is the process of combining data (attributes) and methods (behaviors) into a single unit called an object. It hides the internal details of an object and provides a public interface to interact with it. Encapsulation helps in achieving data abstraction, data hiding, and modularity.\n",
    "\n",
    "Inheritance: Inheritance is a mechanism that allows a class to inherit properties and behaviors from another class. It enables the creation of hierarchical relationships between classes, where a child class (subclass) inherits characteristics from its parent class (superclass). Inheritance promotes code reusability and supports the concept of \"is-a\" relationships.\n",
    "\n",
    "Polymorphism: Polymorphism means the ability of objects of different classes to respond to the same message or perform the same operation in different ways. It allows objects to take multiple forms or exhibit multiple behaviors based on the context. Polymorphism is achieved through method overriding and method overloading.\n",
    "\n",
    "Abstraction: Abstraction refers to the process of simplifying complex real-world entities into their essential characteristics. It allows programmers to focus on the essential features of an object while hiding the irrelevant details. Abstraction helps in managing complexity, improving code maintainability, and creating reusable code component."
   ]
  },
  {
   "cell_type": "markdown",
   "id": "95f24f18-237a-41a6-856b-a3627f192898",
   "metadata": {},
   "source": [
    "Q3. Explain why the __init__() function is used. Give a suitable example."
   ]
  },
  {
   "cell_type": "markdown",
   "id": "e9c22234-b350-4d95-bffb-a19f322dae72",
   "metadata": {},
   "source": [
    "ANS: The __init__() function is a special method in Python classes that is used for initializing the attributes of an object when it is created. It is also known as the constructor method because it is automatically called when a new instance of a class is created.\n",
    "\n",
    "The __init__() method is used to set the initial state of an object by assigning values to its attributes. It takes the self parameter, which refers to the object being created, and other parameters that are used to initialize the attributes."
   ]
  },
  {
   "cell_type": "code",
   "execution_count": 6,
   "id": "4e353ded-3279-48df-b699-f858585ab0a5",
   "metadata": {},
   "outputs": [],
   "source": [
    "#examples\n",
    "class Car:\n",
    "    def __init__(self, make, model, year):\n",
    "        self.make = make\n",
    "        self.model = model\n",
    "        self.year = year\n",
    "        self.is_running = False\n",
    "\n",
    "    def start_engine(self):\n",
    "        self.is_running = True\n",
    "        print(\"Engine started.\")\n",
    "\n",
    "    def stop_engine(self):\n",
    "        self.is_running = False\n",
    "        print(\"Engine stopped.\")"
   ]
  },
  {
   "cell_type": "code",
   "execution_count": 7,
   "id": "4ab00526-9adf-4030-a194-50a88cea4a07",
   "metadata": {},
   "outputs": [
    {
     "name": "stdout",
     "output_type": "stream",
     "text": [
      "Toyota\n",
      "Camry\n",
      "2022\n",
      "False\n",
      "Engine started.\n",
      "True\n",
      "Engine stopped.\n",
      "False\n"
     ]
    }
   ],
   "source": [
    "# Creating an instance of the Car class\n",
    "car1 = Car(\"Toyota\", \"Camry\", 2022)\n",
    "\n",
    "# Accessing the attributes of car1\n",
    "print(car1.make)     \n",
    "print(car1.model)    \n",
    "print(car1.year)     \n",
    "print(car1.is_running) \n",
    "\n",
    "# Calling methods on car1\n",
    "car1.start_engine()    \n",
    "print(car1.is_running)  \n",
    "\n",
    "car1.stop_engine()      \n",
    "print(car1.is_running)  \n"
   ]
  },
  {
   "cell_type": "markdown",
   "id": "f96e911b-e5bc-4719-8359-90ac92f7627a",
   "metadata": {},
   "source": [
    "Q4. Why self is used in OOPs?"
   ]
  },
  {
   "cell_type": "markdown",
   "id": "3c1f6f01-0a88-4d0f-9e8b-290f282567e7",
   "metadata": {},
   "source": [
    "ANS: In object-oriented programming (OOP), self is a conventional name used to refer to the instance of a class within the class itself. It is a special parameter that allows methods to access and manipulate the attributes and methods of an object."
   ]
  },
  {
   "cell_type": "markdown",
   "id": "ff744c30-cd2c-4865-9847-ad426b42142a",
   "metadata": {},
   "source": [
    "Q5. What is inheritance? Give an example for each type of inheritance."
   ]
  },
  {
   "cell_type": "markdown",
   "id": "7cd8e0b2-aa13-485f-af7f-2d1acc35be3f",
   "metadata": {},
   "source": [
    "Inheritance is a fundamental concept in object-oriented programming (OOP) that allows classes to inherit attributes and behaviors from other classes. It enables the creation of hierarchical relationships between classes, where a child class inherits characteristics from its parent class. Inheritance promotes code reusability and supports the concept of \"is-a\" relationships.\n",
    "\n",
    "\n",
    "\n",
    "1. Single Inheritance: In single inheritance, a class inherits from a single parent class. It forms a simple one-to-one parent-child relationship. The child class extends the parent class by inheriting its attributes and methods.\n",
    "\n",
    "\n",
    "\n",
    "2. Multiple Inheritance: Multiple inheritance is a mechanism where a class can inherit from more than one parent class. The child class inherits attributes and methods from multiple parent classes, allowing it to combine features from multiple sources.\n",
    "\n",
    "\n",
    "\n",
    "\n",
    "3. Multilevel Inheritance: Multilevel inheritance involves creating a chain of inheritance, where a child class becomes the parent class for another class. This creates a hierarchical structure with multiple levels of inheritance."
   ]
  },
  {
   "cell_type": "code",
   "execution_count": 8,
   "id": "6801cd0d-ef50-422a-b7e5-3a43850b8711",
   "metadata": {},
   "outputs": [
    {
     "name": "stdout",
     "output_type": "stream",
     "text": [
      "Buddy is eating.\n",
      "Woof!\n"
     ]
    }
   ],
   "source": [
    "#single inheritance\n",
    "\n",
    "class Animal:\n",
    "    def __init__(self, name):\n",
    "        self.name = name\n",
    "\n",
    "    def eat(self):\n",
    "        print(f\"{self.name} is eating.\")\n",
    "\n",
    "class Dog(Animal):\n",
    "    def bark(self):\n",
    "        print(\"Woof!\")\n",
    "\n",
    "# Creating an instance of Dog class\n",
    "dog = Dog(\"Buddy\")\n",
    "dog.eat()   \n",
    "dog.bark()  \n"
   ]
  },
  {
   "cell_type": "code",
   "execution_count": 9,
   "id": "1ae1728c-2d90-4ed6-a2fb-5d8ff02e33bb",
   "metadata": {},
   "outputs": [
    {
     "name": "stdout",
     "output_type": "stream",
     "text": [
      "Fish can swim.\n",
      "Mammal can walk.\n"
     ]
    }
   ],
   "source": [
    "#multiple inheritance\n",
    "class Fish:\n",
    "    def swim(self):\n",
    "        print(\"Fish can swim.\")\n",
    "\n",
    "class Mammal:\n",
    "    def walk(self):\n",
    "        print(\"Mammal can walk.\")\n",
    "\n",
    "class Dolphin(Fish, Mammal):\n",
    "    pass\n",
    "\n",
    "# Creating an instance of Dolphin class\n",
    "dolphin = Dolphin()\n",
    "dolphin.swim()  # Output: Fish can swim.\n",
    "dolphin.walk()  # Output: Mammal can walk.\n"
   ]
  },
  {
   "cell_type": "code",
   "execution_count": null,
   "id": "24c66976-00e6-4a0a-a93e-f38113817e7a",
   "metadata": {},
   "outputs": [],
   "source": [
    "#multilevel inheritance\n",
    "\n",
    "class Animal:\n",
    "    def eat(self):\n",
    "        print(\"Animal is eating.\")\n",
    "\n",
    "class Dog(Animal):\n",
    "    def bark(self):\n",
    "        print(\"Woof!\")\n",
    "\n",
    "class Bulldog(Dog):\n",
    "    def guard(self):\n",
    "        print(\"Bulldog is guarding.\")\n",
    "\n",
    "# Creating an instance of Bulldog class\n",
    "bulldog = Bulldog()\n",
    "bulldog.eat()   # Output: Animal is eating.\n",
    "bulldog.bark()  # Output: Woof!\n",
    "bulldog.guard() # Output: Bulldog is guarding.\n"
   ]
  }
 ],
 "metadata": {
  "kernelspec": {
   "display_name": "Python 3 (ipykernel)",
   "language": "python",
   "name": "python3"
  },
  "language_info": {
   "codemirror_mode": {
    "name": "ipython",
    "version": 3
   },
   "file_extension": ".py",
   "mimetype": "text/x-python",
   "name": "python",
   "nbconvert_exporter": "python",
   "pygments_lexer": "ipython3",
   "version": "3.10.8"
  }
 },
 "nbformat": 4,
 "nbformat_minor": 5
}
