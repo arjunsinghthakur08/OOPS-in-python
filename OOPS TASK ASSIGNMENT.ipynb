{
 "cells": [
  {
   "cell_type": "markdown",
   "id": "d977b308-8f07-4c94-a0bf-f3c4689e6824",
   "metadata": {},
   "source": [
    "Q1, Create a vehicle class with an init method having instance variables as name_of_vehicle, max_speed\n",
    "and average_of_vehicle."
   ]
  },
  {
   "cell_type": "code",
   "execution_count": 1,
   "id": "e0c261d8-0417-4b26-bba9-2ba7b3456340",
   "metadata": {},
   "outputs": [],
   "source": [
    "class vehicle:\n",
    "    \n",
    "    def __init__(self, name_of_vehicle, max_speed, average_of_vehicle):\n",
    "        \n",
    "        self.vehicleName = name_of_vehicle\n",
    "        self.topSpeed    = max_speed\n",
    "        self.milage      = average_of_vehicle"
   ]
  },
  {
   "cell_type": "code",
   "execution_count": 4,
   "id": "cd1b70da-3741-48b9-ad7e-94b076fd4740",
   "metadata": {},
   "outputs": [
    {
     "name": "stdout",
     "output_type": "stream",
     "text": [
      "Car\n",
      "200\n",
      "80\n"
     ]
    }
   ],
   "source": [
    "car = vehicle(\"Car\", 200, 80)\n",
    "print(car.vehicleName) \n",
    "print(car.topSpeed)        \n",
    "print(car.milage)"
   ]
  },
  {
   "cell_type": "markdown",
   "id": "fc7d91aa-9742-4576-aa88-e12a2e8a61b0",
   "metadata": {},
   "source": [
    "Q2. Create a child class car from the vehicle class created in Que 1, which will inherit the vehicle class.\n",
    "Create a method named seating_capacity which takes capacity as an argument and returns the name of\n",
    "the vehicle and its seating capacity."
   ]
  },
  {
   "cell_type": "code",
   "execution_count": 16,
   "id": "bcc52363-adef-4e8b-a624-83c598211863",
   "metadata": {},
   "outputs": [],
   "source": [
    "class vehicle:\n",
    "    \n",
    "    def __init__(self, name_of_vehicle, max_speed, average_of_vehicle):\n",
    "        \n",
    "        self.name_of_vehicle = name_of_vehicle\n",
    "        self.max_speed    = max_speed\n",
    "        self.average_of_vehicle    = average_of_vehicle\n",
    "        \n",
    "        \n",
    "class Car(vehicle):\n",
    "    def __init__(self, name_of_vehicle, max_speed, average_speed):\n",
    "        super().__init__(name_of_vehicle, max_speed, average_speed)\n",
    "\n",
    "    def seating_capacity(self, capacity):\n",
    "        print (f\"{self.name_of_vehicle} has a seating capacity of {capacity} people.\")\n"
   ]
  },
  {
   "cell_type": "code",
   "execution_count": 18,
   "id": "24aee3b6-fe80-43af-8abf-60b10347b1d0",
   "metadata": {},
   "outputs": [
    {
     "name": "stdout",
     "output_type": "stream",
     "text": [
      "CIAZ has a seating capacity of 5 people.\n",
      "None\n"
     ]
    }
   ],
   "source": [
    "car = Car(\"CIAZ\", 180, 60)\n",
    "print(car.seating_capacity(5))\n"
   ]
  },
  {
   "cell_type": "markdown",
   "id": "fd8401f5-0f57-4055-a446-9888d929e598",
   "metadata": {},
   "source": [
    "Q3. What is multiple inheritance? Write a python code to demonstrate multiple inheritance."
   ]
  },
  {
   "cell_type": "markdown",
   "id": "a6454dce-1adb-4f30-9487-d41c7c8f260e",
   "metadata": {},
   "source": [
    "ANS:  Multiple inheritance is a feature in object-oriented programming where a class can inherit attributes and methods from multiple parent classes. This means that a child class can inherit and combine the features of more than one parent class."
   ]
  },
  {
   "cell_type": "code",
   "execution_count": 19,
   "id": "481aef95-468b-4d2b-9482-2c4283af0836",
   "metadata": {},
   "outputs": [],
   "source": [
    "#example\n",
    "class Animal:\n",
    "    def __init__(self, name):\n",
    "        self.name = name\n",
    "\n",
    "    def eat(self):\n",
    "        print(f\"{self.name} is eating.\")\n",
    "\n",
    "\n",
    "class Flyable:\n",
    "    def fly(self):\n",
    "        print(f\"{self.name} is flying.\")\n",
    "\n",
    "\n",
    "class Bird(Animal, Flyable):\n",
    "    def __init__(self, name):\n",
    "        super().__init__(name)\n",
    "\n",
    "    def chirp(self):\n",
    "        print(f\"{self.name} is chirping.\")"
   ]
  },
  {
   "cell_type": "code",
   "execution_count": 20,
   "id": "b9068b3a-8536-487e-92a3-667e2378c8a4",
   "metadata": {},
   "outputs": [
    {
     "name": "stdout",
     "output_type": "stream",
     "text": [
      "Sparrow is eating.\n",
      "Sparrow is flying.\n",
      "Sparrow is chirping.\n"
     ]
    }
   ],
   "source": [
    "bird = Bird(\"Sparrow\")\n",
    "bird.eat() \n",
    "bird.fly() \n",
    "bird.chirp() "
   ]
  },
  {
   "cell_type": "markdown",
   "id": "c6feaf1a-f8f6-4cef-bd2a-7b05a7479d71",
   "metadata": {},
   "source": [
    "Q4. What are getter and setter in python? Create a class and create a getter and a setter method in this\n",
    "class."
   ]
  },
  {
   "cell_type": "markdown",
   "id": "8ed7b3cd-1f9c-4e29-ac11-eaf478d1ae26",
   "metadata": {},
   "source": [
    "ANS: In Python, getters and setters are methods used to access and modify the values of private instance variables in a class. They provide an interface to retrieve and update the values of private attributes while allowing the class to maintain control over the access and modification process."
   ]
  },
  {
   "cell_type": "code",
   "execution_count": 21,
   "id": "776ce506-6b3f-47c7-be1c-4255b98aba87",
   "metadata": {},
   "outputs": [],
   "source": [
    "class Person:\n",
    "    def __init__(self, name):\n",
    "        self._name = name\n",
    "\n",
    "    def get_name(self):\n",
    "        return self._name\n",
    "\n",
    "    def set_name(self, name):\n",
    "        self._name = name\n"
   ]
  },
  {
   "cell_type": "code",
   "execution_count": 22,
   "id": "5a11b87e-eacd-4956-8144-54388b0a052d",
   "metadata": {},
   "outputs": [
    {
     "name": "stdout",
     "output_type": "stream",
     "text": [
      "Krishna\n",
      "Arjun\n"
     ]
    }
   ],
   "source": [
    "person = Person(\"Krishna\")\n",
    "print(person.get_name())  \n",
    "\n",
    "person.set_name(\"Arjun\")\n",
    "print(person.get_name()) "
   ]
  },
  {
   "cell_type": "markdown",
   "id": "ad0d5df0-509b-4368-95a8-194a1b843ad4",
   "metadata": {},
   "source": [
    "Q5.What is method overriding in python? Write a python code to demonstrate method overriding."
   ]
  },
  {
   "cell_type": "markdown",
   "id": "26463aaa-f39b-4c85-a750-dad198bec116",
   "metadata": {},
   "source": [
    "ANS: Method overriding is a feature in object-oriented programming where a subclass provides a different implementation of a method that is already defined in its parent class. The overridden method in the subclass has the same name and parameters as the method in the parent class, but it provides a different implementation."
   ]
  }
 ],
 "metadata": {
  "kernelspec": {
   "display_name": "Python 3 (ipykernel)",
   "language": "python",
   "name": "python3"
  },
  "language_info": {
   "codemirror_mode": {
    "name": "ipython",
    "version": 3
   },
   "file_extension": ".py",
   "mimetype": "text/x-python",
   "name": "python",
   "nbconvert_exporter": "python",
   "pygments_lexer": "ipython3",
   "version": "3.10.8"
  }
 },
 "nbformat": 4,
 "nbformat_minor": 5
}
